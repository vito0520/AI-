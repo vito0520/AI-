{
  "nbformat": 4,
  "nbformat_minor": 0,
  "metadata": {
    "colab": {
      "name": "adam.ipynb",
      "provenance": []
    },
    "kernelspec": {
      "name": "python3",
      "display_name": "Python 3"
    }
  },
  "cells": [
    {
      "cell_type": "markdown",
      "metadata": {
        "id": "y5MSzWYoE_W9",
        "colab_type": "text"
      },
      "source": [
        "# *載入所需要套件*\n",
        "adam實作"
      ]
    },
    {
      "cell_type": "code",
      "metadata": {
        "id": "8BcHvqgGavxT",
        "colab_type": "code",
        "colab": {}
      },
      "source": [
        "import numpy as np\n",
        "import pandas as pd\n",
        "from keras.utils import np_utils\n",
        "import matplotlib.pyplot as plt\n",
        "from keras.models import Sequential\n",
        "from keras.layers import Dense\n",
        "from keras.regularizers import l2\n",
        "np.random.seed(10)"
      ],
      "execution_count": 0,
      "outputs": []
    },
    {
      "cell_type": "code",
      "metadata": {
        "id": "2a7IRrs5HDh8",
        "colab_type": "code",
        "colab": {}
      },
      "source": [
        ""
      ],
      "execution_count": 0,
      "outputs": []
    },
    {
      "cell_type": "markdown",
      "metadata": {
        "id": "KCPgHJlaFBFL",
        "colab_type": "text"
      },
      "source": [
        "載入mnist資料集"
      ]
    },
    {
      "cell_type": "code",
      "metadata": {
        "id": "z7WlQmWUbKjK",
        "colab_type": "code",
        "colab": {}
      },
      "source": [
        "from keras.datasets import mnist"
      ],
      "execution_count": 0,
      "outputs": []
    },
    {
      "cell_type": "markdown",
      "metadata": {
        "id": "c5BbwPkkFIy3",
        "colab_type": "text"
      },
      "source": [
        "*讀取資料集*"
      ]
    },
    {
      "cell_type": "code",
      "metadata": {
        "id": "AC93F7griM2D",
        "colab_type": "code",
        "colab": {}
      },
      "source": [
        "(x_train_image,y_train_label),\\\n",
        "(x_test_image,y_test_label) = mnist.load_data()"
      ],
      "execution_count": 0,
      "outputs": []
    },
    {
      "cell_type": "markdown",
      "metadata": {
        "id": "Z3QSXOtdFQBj",
        "colab_type": "text"
      },
      "source": [
        "將特徵做Reshape轉換"
      ]
    },
    {
      "cell_type": "code",
      "metadata": {
        "id": "TvvQF_0PihHX",
        "colab_type": "code",
        "colab": {}
      },
      "source": [
        "x_Train = x_train_image.reshape(60000,784).astype('float32')\n",
        "x_Test = x_test_image.reshape(10000,784).astype('float32')"
      ],
      "execution_count": 0,
      "outputs": []
    },
    {
      "cell_type": "markdown",
      "metadata": {
        "id": "7IpgdgYVFS_a",
        "colab_type": "text"
      },
      "source": [
        "將特徵標準化"
      ]
    },
    {
      "cell_type": "code",
      "metadata": {
        "id": "dbmRxpgg0K2W",
        "colab_type": "code",
        "colab": {}
      },
      "source": [
        "x_Train_normalize = x_Train/255\n",
        "x_Test_normalize = x_Test/255"
      ],
      "execution_count": 0,
      "outputs": []
    },
    {
      "cell_type": "markdown",
      "metadata": {
        "id": "gdvSsT4LFWn8",
        "colab_type": "text"
      },
      "source": [
        "將數字以oneHotEncoding轉換"
      ]
    },
    {
      "cell_type": "code",
      "metadata": {
        "id": "dNRdXcZq0eVq",
        "colab_type": "code",
        "colab": {}
      },
      "source": [
        "y_Train_OneHot = np_utils.to_categorical(y_train_label)\n",
        "y_test_label = np_utils.to_categorical(y_test_label)"
      ],
      "execution_count": 0,
      "outputs": []
    },
    {
      "cell_type": "markdown",
      "metadata": {
        "id": "DQbAG85NFZhZ",
        "colab_type": "text"
      },
      "source": [
        "建立Sequential()模型"
      ]
    },
    {
      "cell_type": "code",
      "metadata": {
        "id": "-wggFSDM1Jm8",
        "colab_type": "code",
        "colab": {}
      },
      "source": [
        "model = Sequential()"
      ],
      "execution_count": 0,
      "outputs": []
    },
    {
      "cell_type": "markdown",
      "metadata": {
        "id": "GQgLok58FdUA",
        "colab_type": "text"
      },
      "source": [
        "建立輸入層隱藏層"
      ]
    },
    {
      "cell_type": "code",
      "metadata": {
        "id": "TM-wWxac1PqZ",
        "colab_type": "code",
        "colab": {}
      },
      "source": [
        "model.add(Dense(units = 16,\n",
        "                input_dim = 784,\n",
        "                kernel_initializer = 'normal',\n",
        "                activation = 'relu'))"
      ],
      "execution_count": 0,
      "outputs": []
    },
    {
      "cell_type": "markdown",
      "metadata": {
        "id": "dpIFk7scFsO4",
        "colab_type": "text"
      },
      "source": [
        "建立輸出層"
      ]
    },
    {
      "cell_type": "code",
      "metadata": {
        "id": "dyCE4GCA4R33",
        "colab_type": "code",
        "colab": {}
      },
      "source": [
        "model.add(Dense(units = 10,\n",
        "                kernel_initializer = 'normal',\n",
        "                activation = 'softmax'))"
      ],
      "execution_count": 0,
      "outputs": []
    },
    {
      "cell_type": "markdown",
      "metadata": {
        "id": "XZrgC7IYFt_j",
        "colab_type": "text"
      },
      "source": [
        "# 進行訓練"
      ]
    },
    {
      "cell_type": "code",
      "metadata": {
        "id": "Od79vv8E5Be1",
        "colab_type": "code",
        "colab": {}
      },
      "source": [
        "model.compile(loss = 'categorical_crossentropy',\n",
        "              optimizer = 'adam',metrics = ['accuracy'])"
      ],
      "execution_count": 0,
      "outputs": []
    },
    {
      "cell_type": "markdown",
      "metadata": {
        "id": "_vhVXJfNFwzY",
        "colab_type": "text"
      },
      "source": [
        "執行訓練程式"
      ]
    },
    {
      "cell_type": "code",
      "metadata": {
        "id": "xOp4XNvR-kVB",
        "colab_type": "code",
        "outputId": "4fe35463-6431-4bf1-cb6e-fde0cf7e9cb9",
        "colab": {
          "base_uri": "https://localhost:8080/",
          "height": 374
        }
      },
      "source": [
        "train_history = model.fit(x= x_Train_normalize,\n",
        "                          y=y_Train_OneHot,validation_split = 0.2,\n",
        "                          epochs = 10,batch_size = 200,verbose = 2)"
      ],
      "execution_count": 19,
      "outputs": [
        {
          "output_type": "stream",
          "text": [
            "Train on 48000 samples, validate on 12000 samples\n",
            "Epoch 1/10\n",
            " - 1s - loss: 1.0488 - accuracy: 0.7217 - val_loss: 0.4315 - val_accuracy: 0.8878\n",
            "Epoch 2/10\n",
            " - 1s - loss: 0.3821 - accuracy: 0.8948 - val_loss: 0.3127 - val_accuracy: 0.9127\n",
            "Epoch 3/10\n",
            " - 1s - loss: 0.3137 - accuracy: 0.9112 - val_loss: 0.2841 - val_accuracy: 0.9172\n",
            "Epoch 4/10\n",
            " - 1s - loss: 0.2852 - accuracy: 0.9190 - val_loss: 0.2612 - val_accuracy: 0.9262\n",
            "Epoch 5/10\n",
            " - 1s - loss: 0.2649 - accuracy: 0.9241 - val_loss: 0.2477 - val_accuracy: 0.9294\n",
            "Epoch 6/10\n",
            " - 1s - loss: 0.2489 - accuracy: 0.9289 - val_loss: 0.2347 - val_accuracy: 0.9333\n",
            "Epoch 7/10\n",
            " - 1s - loss: 0.2352 - accuracy: 0.9320 - val_loss: 0.2255 - val_accuracy: 0.9344\n",
            "Epoch 8/10\n",
            " - 1s - loss: 0.2234 - accuracy: 0.9354 - val_loss: 0.2187 - val_accuracy: 0.9373\n",
            "Epoch 9/10\n",
            " - 1s - loss: 0.2132 - accuracy: 0.9381 - val_loss: 0.2093 - val_accuracy: 0.9401\n",
            "Epoch 10/10\n",
            " - 1s - loss: 0.2046 - accuracy: 0.9407 - val_loss: 0.2042 - val_accuracy: 0.9417\n"
          ],
          "name": "stdout"
        }
      ]
    },
    {
      "cell_type": "markdown",
      "metadata": {
        "id": "si0nGxtBFz4L",
        "colab_type": "text"
      },
      "source": [
        "建立繪圖函示"
      ]
    },
    {
      "cell_type": "code",
      "metadata": {
        "id": "7LjnDiGM_W_P",
        "colab_type": "code",
        "colab": {}
      },
      "source": [
        "def show_train_history(train_history, train, validation):\n",
        "\n",
        "    plt.plot(train_history.history[train])\n",
        "\n",
        "    plt.plot(train_history.history[validation])\n",
        "\n",
        "    plt.title('Train History')\n",
        "\n",
        "    plt.ylabel(train)\n",
        "\n",
        "    plt.xlabel('Epoch')\n",
        "\n",
        "    plt.legend(['train', 'validation'], loc='center right')\n",
        "\n",
        "    plt.show()"
      ],
      "execution_count": 0,
      "outputs": []
    },
    {
      "cell_type": "markdown",
      "metadata": {
        "id": "DjNlhpfXF15v",
        "colab_type": "text"
      },
      "source": [
        "顯示訓練成果"
      ]
    },
    {
      "cell_type": "code",
      "metadata": {
        "id": "tVjVhbfuAb0t",
        "colab_type": "code",
        "outputId": "36756991-b17c-4e5b-a506-50b066c61420",
        "colab": {
          "base_uri": "https://localhost:8080/",
          "height": 295
        }
      },
      "source": [
        "show_train_history(train_history,'accuracy','val_accuracy')"
      ],
      "execution_count": 21,
      "outputs": [
        {
          "output_type": "display_data",
          "data": {
            "image/png": "[encoded data removed]",
            "text/plain": [
              "<Figure size 432x288 with 1 Axes>"
            ]
          },
          "metadata": {
            "tags": [],
            "needs_background": "light"
          }
        }
      ]
    },
    {
      "cell_type": "markdown",
      "metadata": {
        "id": "H-vrkjslF4lD",
        "colab_type": "text"
      },
      "source": [
        "顯示訓練損失"
      ]
    },
    {
      "cell_type": "code",
      "metadata": {
        "id": "DALZqeHbFiCk",
        "colab_type": "code",
        "outputId": "ad0a9d16-a3cb-429f-c357-27390a28d489",
        "colab": {
          "base_uri": "https://localhost:8080/",
          "height": 295
        }
      },
      "source": [
        "show_train_history(train_history,'loss','val_loss')"
      ],
      "execution_count": 22,
      "outputs": [
        {
          "output_type": "display_data",
          "data": {
            "image/png": "[encoded data removed]",
            "text/plain": [
              "<Figure size 432x288 with 1 Axes>"
            ]
          },
          "metadata": {
            "tags": [],
            "needs_background": "light"
          }
        }
      ]
    }
  ]
}