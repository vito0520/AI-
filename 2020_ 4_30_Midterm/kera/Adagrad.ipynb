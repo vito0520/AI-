{
  "nbformat": 4,
  "nbformat_minor": 0,
  "metadata": {
    "colab": {
      "name": " Adagrad.ipynb",
      "provenance": []
    },
    "kernelspec": {
      "name": "python3",
      "display_name": "Python 3"
    }
  },
  "cells": [
    {
      "cell_type": "markdown",
      "metadata": {
        "id": "PhL474CTErUl",
        "colab_type": "text"
      },
      "source": [
        "# *載入所需要套件*\n",
        " Adagrad實作\n"
      ]
    },
    {
      "cell_type": "code",
      "metadata": {
        "id": "PIUu87ThE6Kq",
        "colab_type": "code",
        "colab": {}
      },
      "source": [
        "import numpy as np\n",
        "import pandas as pd\n",
        "from keras.utils import np_utils\n",
        "import matplotlib.pyplot as plt\n",
        "from keras.models import Sequential\n",
        "from keras.layers import Dense\n",
        "from keras.regularizers import l2\n",
        "np.random.seed(10)"
      ],
      "execution_count": 0,
      "outputs": []
    },
    {
      "cell_type": "markdown",
      "metadata": {
        "id": "w_l5dSqFGC39",
        "colab_type": "text"
      },
      "source": [
        "載入mnist資料集"
      ]
    },
    {
      "cell_type": "code",
      "metadata": {
        "id": "z7WlQmWUbKjK",
        "colab_type": "code",
        "colab": {}
      },
      "source": [
        "from keras.datasets import mnist"
      ],
      "execution_count": 0,
      "outputs": []
    },
    {
      "cell_type": "markdown",
      "metadata": {
        "id": "lXwwJ9xgGFCr",
        "colab_type": "text"
      },
      "source": [
        "讀取資料集"
      ]
    },
    {
      "cell_type": "code",
      "metadata": {
        "id": "AC93F7griM2D",
        "colab_type": "code",
        "colab": {}
      },
      "source": [
        "(x_train_image,y_train_label),\\\n",
        "(x_test_image,y_test_label) = mnist.load_data()"
      ],
      "execution_count": 0,
      "outputs": []
    },
    {
      "cell_type": "markdown",
      "metadata": {
        "id": "l-t-wyN1GLVW",
        "colab_type": "text"
      },
      "source": [
        ""
      ]
    },
    {
      "cell_type": "markdown",
      "metadata": {
        "id": "KUGLrWejGIfO",
        "colab_type": "text"
      },
      "source": [
        "將特徵做Reshape轉換"
      ]
    },
    {
      "cell_type": "code",
      "metadata": {
        "id": "TvvQF_0PihHX",
        "colab_type": "code",
        "colab": {}
      },
      "source": [
        "x_Train = x_train_image.reshape(60000,784).astype('float32')\n",
        "x_Test = x_test_image.reshape(10000,784).astype('float32')"
      ],
      "execution_count": 0,
      "outputs": []
    },
    {
      "cell_type": "markdown",
      "metadata": {
        "id": "G2we9tG6GMgV",
        "colab_type": "text"
      },
      "source": [
        "將特徵標準化"
      ]
    },
    {
      "cell_type": "code",
      "metadata": {
        "id": "dbmRxpgg0K2W",
        "colab_type": "code",
        "colab": {}
      },
      "source": [
        "x_Train_normalize = x_Train/255\n",
        "x_Test_normalize = x_Test/255"
      ],
      "execution_count": 0,
      "outputs": []
    },
    {
      "cell_type": "markdown",
      "metadata": {
        "id": "Ie0MoRe2GOk2",
        "colab_type": "text"
      },
      "source": [
        "將數字以oneHotEncoding轉換"
      ]
    },
    {
      "cell_type": "code",
      "metadata": {
        "id": "dNRdXcZq0eVq",
        "colab_type": "code",
        "colab": {}
      },
      "source": [
        "y_Train_OneHot = np_utils.to_categorical(y_train_label)\n",
        "y_test_label = np_utils.to_categorical(y_test_label)"
      ],
      "execution_count": 0,
      "outputs": []
    },
    {
      "cell_type": "markdown",
      "metadata": {
        "id": "R_5m-lezGVe9",
        "colab_type": "text"
      },
      "source": [
        "建立Sequential()模型"
      ]
    },
    {
      "cell_type": "code",
      "metadata": {
        "id": "-wggFSDM1Jm8",
        "colab_type": "code",
        "colab": {}
      },
      "source": [
        "model = Sequential()"
      ],
      "execution_count": 0,
      "outputs": []
    },
    {
      "cell_type": "markdown",
      "metadata": {
        "id": "mjMWgcVFGXOk",
        "colab_type": "text"
      },
      "source": [
        "建立輸入層隱藏層"
      ]
    },
    {
      "cell_type": "code",
      "metadata": {
        "id": "TM-wWxac1PqZ",
        "colab_type": "code",
        "colab": {}
      },
      "source": [
        "model.add(Dense(units = 256,\n",
        "                input_dim = 784,\n",
        "                kernel_initializer = 'normal',\n",
        "                activation = 'relu'))"
      ],
      "execution_count": 0,
      "outputs": []
    },
    {
      "cell_type": "markdown",
      "metadata": {
        "id": "Goj561ELGZdQ",
        "colab_type": "text"
      },
      "source": [
        "建立輸出層"
      ]
    },
    {
      "cell_type": "code",
      "metadata": {
        "id": "dyCE4GCA4R33",
        "colab_type": "code",
        "colab": {}
      },
      "source": [
        "model.add(Dense(units = 10,\n",
        "                kernel_initializer = 'normal',\n",
        "                activation = 'softmax'))"
      ],
      "execution_count": 0,
      "outputs": []
    },
    {
      "cell_type": "markdown",
      "metadata": {
        "id": "EZ2Eu5daGcEp",
        "colab_type": "text"
      },
      "source": [
        "# 進行訓練"
      ]
    },
    {
      "cell_type": "code",
      "metadata": {
        "id": "Od79vv8E5Be1",
        "colab_type": "code",
        "colab": {}
      },
      "source": [
        "model.compile(loss = 'categorical_crossentropy',\n",
        "              optimizer = 'Adagrad',metrics = ['accuracy'])"
      ],
      "execution_count": 0,
      "outputs": []
    },
    {
      "cell_type": "markdown",
      "metadata": {
        "id": "FzpAa85AGf4U",
        "colab_type": "text"
      },
      "source": [
        "執行訓練程式"
      ]
    },
    {
      "cell_type": "code",
      "metadata": {
        "id": "xOp4XNvR-kVB",
        "colab_type": "code",
        "outputId": "6bce86cd-d509-44e4-d8e6-a82d453ccb56",
        "colab": {
          "base_uri": "https://localhost:8080/",
          "height": 374
        }
      },
      "source": [
        "train_history = model.fit(x= x_Train_normalize,\n",
        "                          y=y_Train_OneHot,validation_split = 0.2,\n",
        "                          epochs = 10,batch_size = 200,verbose = 2)"
      ],
      "execution_count": 25,
      "outputs": [
        {
          "output_type": "stream",
          "text": [
            "Train on 48000 samples, validate on 12000 samples\n",
            "Epoch 1/10\n",
            " - 2s - loss: 0.3303 - accuracy: 0.9056 - val_loss: 0.1967 - val_accuracy: 0.9455\n",
            "Epoch 2/10\n",
            " - 1s - loss: 0.1795 - accuracy: 0.9499 - val_loss: 0.1588 - val_accuracy: 0.9556\n",
            "Epoch 3/10\n",
            " - 1s - loss: 0.1435 - accuracy: 0.9596 - val_loss: 0.1411 - val_accuracy: 0.9610\n",
            "Epoch 4/10\n",
            " - 1s - loss: 0.1227 - accuracy: 0.9660 - val_loss: 0.1294 - val_accuracy: 0.9635\n",
            "Epoch 5/10\n",
            " - 1s - loss: 0.1087 - accuracy: 0.9703 - val_loss: 0.1200 - val_accuracy: 0.9661\n",
            "Epoch 6/10\n",
            " - 1s - loss: 0.0979 - accuracy: 0.9733 - val_loss: 0.1131 - val_accuracy: 0.9670\n",
            "Epoch 7/10\n",
            " - 1s - loss: 0.0897 - accuracy: 0.9756 - val_loss: 0.1091 - val_accuracy: 0.9690\n",
            "Epoch 8/10\n",
            " - 1s - loss: 0.0827 - accuracy: 0.9779 - val_loss: 0.1054 - val_accuracy: 0.9702\n",
            "Epoch 9/10\n",
            " - 1s - loss: 0.0772 - accuracy: 0.9796 - val_loss: 0.1022 - val_accuracy: 0.9703\n",
            "Epoch 10/10\n",
            " - 1s - loss: 0.0725 - accuracy: 0.9809 - val_loss: 0.0985 - val_accuracy: 0.9720\n"
          ],
          "name": "stdout"
        }
      ]
    },
    {
      "cell_type": "markdown",
      "metadata": {
        "id": "TwARzDd7GkZc",
        "colab_type": "text"
      },
      "source": [
        "建立繪圖函示"
      ]
    },
    {
      "cell_type": "code",
      "metadata": {
        "id": "7LjnDiGM_W_P",
        "colab_type": "code",
        "colab": {}
      },
      "source": [
        "def show_train_history(train_history, train, validation):\n",
        "\n",
        "    plt.plot(train_history.history[train])\n",
        "\n",
        "    plt.plot(train_history.history[validation])\n",
        "\n",
        "    plt.title('Train History')\n",
        "\n",
        "    plt.ylabel(train)\n",
        "\n",
        "    plt.xlabel('Epoch')\n",
        "\n",
        "    plt.legend(['train', 'validation'], loc='center right')\n",
        "\n",
        "    plt.show()"
      ],
      "execution_count": 0,
      "outputs": []
    },
    {
      "cell_type": "markdown",
      "metadata": {
        "id": "Md4GO4ARGpDU",
        "colab_type": "text"
      },
      "source": [
        "顯示訓練成果"
      ]
    },
    {
      "cell_type": "code",
      "metadata": {
        "id": "tVjVhbfuAb0t",
        "colab_type": "code",
        "outputId": "bf89fb0b-c4fe-43d6-d8e1-02972cda0621",
        "colab": {
          "base_uri": "https://localhost:8080/",
          "height": 295
        }
      },
      "source": [
        "show_train_history(train_history,'accuracy','val_accuracy')"
      ],
      "execution_count": 27,
      "outputs": [
        {
          "output_type": "display_data",
          "data": {
            "image/png": "[encoded data removed]",
            "text/plain": [
              "<Figure size 432x288 with 1 Axes>"
            ]
          },
          "metadata": {
            "tags": [],
            "needs_background": "light"
          }
        }
      ]
    },
    {
      "cell_type": "markdown",
      "metadata": {
        "id": "b90JFQ1fGrv7",
        "colab_type": "text"
      },
      "source": [
        "顯示訓練損失"
      ]
    },
    {
      "cell_type": "code",
      "metadata": {
        "id": "Nw-FuCFWFaOv",
        "colab_type": "code",
        "outputId": "ab582757-e206-411b-db7f-9d345b3ff803",
        "colab": {
          "base_uri": "https://localhost:8080/",
          "height": 295
        }
      },
      "source": [
        "show_train_history(train_history,'loss','val_loss')"
      ],
      "execution_count": 28,
      "outputs": [
        {
          "output_type": "display_data",
          "data": {
            "image/png": "[encoded data removed]",
            "text/plain": [
              "<Figure size 432x288 with 1 Axes>"
            ]
          },
          "metadata": {
            "tags": [],
            "needs_background": "light"
          }
        }
      ]
    },
    {
      "cell_type": "markdown",
      "metadata": {
        "id": "NCz_aO8-EqFp",
        "colab_type": "text"
      },
      "source": [
        ""
      ]
    }
  ]
}