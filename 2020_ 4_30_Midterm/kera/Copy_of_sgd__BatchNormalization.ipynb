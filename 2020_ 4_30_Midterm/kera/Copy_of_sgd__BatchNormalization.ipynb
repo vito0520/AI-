{
  "nbformat": 4,
  "nbformat_minor": 0,
  "metadata": {
    "colab": {
      "name": "Copy of sgd_ BatchNormalization.ipynb",
      "provenance": [],
      "collapsed_sections": []
    },
    "kernelspec": {
      "name": "python3",
      "display_name": "Python 3"
    }
  },
  "cells": [
    {
      "cell_type": "markdown",
      "metadata": {
        "id": "PXcHTj0_6kSP",
        "colab_type": "text"
      },
      "source": [
        "# *載入所需要套件*\n",
        "BatchNormalization實作\n"
      ]
    },
    {
      "cell_type": "code",
      "metadata": {
        "id": "8BcHvqgGavxT",
        "colab_type": "code",
        "colab": {}
      },
      "source": [
        "import numpy as np\n",
        "import pandas as pd\n",
        "from keras.utils import np_utils\n",
        "import matplotlib.pyplot as plt\n",
        "from keras.models import Sequential\n",
        "from keras.layers import Dense\n",
        "from keras.layers.normalization import BatchNormalization\n",
        "np.random.seed(10)"
      ],
      "execution_count": 0,
      "outputs": []
    },
    {
      "cell_type": "markdown",
      "metadata": {
        "id": "Elo6FVAs6unz",
        "colab_type": "text"
      },
      "source": [
        "載入mnist資料集"
      ]
    },
    {
      "cell_type": "code",
      "metadata": {
        "id": "z7WlQmWUbKjK",
        "colab_type": "code",
        "colab": {}
      },
      "source": [
        "from keras.datasets import mnist"
      ],
      "execution_count": 0,
      "outputs": []
    },
    {
      "cell_type": "markdown",
      "metadata": {
        "id": "2GwuhCmo63Xc",
        "colab_type": "text"
      },
      "source": [
        "讀取資料集"
      ]
    },
    {
      "cell_type": "code",
      "metadata": {
        "id": "AC93F7griM2D",
        "colab_type": "code",
        "colab": {}
      },
      "source": [
        "(x_train_image,y_train_label),\\\n",
        "(x_test_image,y_test_label) = mnist.load_data()"
      ],
      "execution_count": 0,
      "outputs": []
    },
    {
      "cell_type": "markdown",
      "metadata": {
        "id": "4vHVMorU7Mrt",
        "colab_type": "text"
      },
      "source": [
        "將特徵做Reshape轉換"
      ]
    },
    {
      "cell_type": "code",
      "metadata": {
        "id": "TvvQF_0PihHX",
        "colab_type": "code",
        "colab": {}
      },
      "source": [
        "x_Train = x_train_image.reshape(60000,784).astype('float32')\n",
        "x_Test = x_test_image.reshape(10000,784).astype('float32')"
      ],
      "execution_count": 0,
      "outputs": []
    },
    {
      "cell_type": "markdown",
      "metadata": {
        "id": "yw0QxhUQ7Wyo",
        "colab_type": "text"
      },
      "source": [
        "將特徵標準化"
      ]
    },
    {
      "cell_type": "code",
      "metadata": {
        "id": "dbmRxpgg0K2W",
        "colab_type": "code",
        "colab": {}
      },
      "source": [
        "x_Train_normalize = x_Train/255\n",
        "x_Test_normalize = x_Test/255"
      ],
      "execution_count": 0,
      "outputs": []
    },
    {
      "cell_type": "markdown",
      "metadata": {
        "id": "5SEKWaI47t9r",
        "colab_type": "text"
      },
      "source": [
        "將數字以oneHotEncoding轉換"
      ]
    },
    {
      "cell_type": "code",
      "metadata": {
        "id": "dNRdXcZq0eVq",
        "colab_type": "code",
        "colab": {}
      },
      "source": [
        "y_Train_OneHot = np_utils.to_categorical(y_train_label)\n",
        "y_test_label = np_utils.to_categorical(y_test_label)"
      ],
      "execution_count": 0,
      "outputs": []
    },
    {
      "cell_type": "markdown",
      "metadata": {
        "id": "dCFFXVEq74IL",
        "colab_type": "text"
      },
      "source": [
        "建立Sequential()模型"
      ]
    },
    {
      "cell_type": "code",
      "metadata": {
        "id": "-wggFSDM1Jm8",
        "colab_type": "code",
        "colab": {}
      },
      "source": [
        "model = Sequential()"
      ],
      "execution_count": 0,
      "outputs": []
    },
    {
      "cell_type": "markdown",
      "metadata": {
        "id": "2IvIuAS08KaO",
        "colab_type": "text"
      },
      "source": [
        "建立輸入層隱藏層"
      ]
    },
    {
      "cell_type": "code",
      "metadata": {
        "id": "TM-wWxac1PqZ",
        "colab_type": "code",
        "colab": {}
      },
      "source": [
        "model.add(Dense(units = 256,\n",
        "                input_dim = 784,\n",
        "                kernel_initializer = 'normal',\n",
        "                activation = 'relu'))"
      ],
      "execution_count": 0,
      "outputs": []
    },
    {
      "cell_type": "markdown",
      "metadata": {
        "id": "CjlvHOfsEGrf",
        "colab_type": "text"
      },
      "source": [
        "BatchNormalization"
      ]
    },
    {
      "cell_type": "code",
      "metadata": {
        "id": "JJrtPAPvByA9",
        "colab_type": "code",
        "colab": {}
      },
      "source": [
        "model.add(BatchNormalization())"
      ],
      "execution_count": 0,
      "outputs": []
    },
    {
      "cell_type": "markdown",
      "metadata": {
        "id": "p3UXXcnH8aFL",
        "colab_type": "text"
      },
      "source": [
        "建立輸出層"
      ]
    },
    {
      "cell_type": "code",
      "metadata": {
        "id": "dyCE4GCA4R33",
        "colab_type": "code",
        "colab": {}
      },
      "source": [
        "model.add(Dense(units = 10,\n",
        "                kernel_initializer = 'normal',\n",
        "                activation = 'softmax'))"
      ],
      "execution_count": 0,
      "outputs": []
    },
    {
      "cell_type": "markdown",
      "metadata": {
        "id": "pqpuMCP38enm",
        "colab_type": "text"
      },
      "source": [
        "# 進行訓練"
      ]
    },
    {
      "cell_type": "code",
      "metadata": {
        "id": "Od79vv8E5Be1",
        "colab_type": "code",
        "colab": {}
      },
      "source": [
        "model.compile(loss = 'categorical_crossentropy',\n",
        "              optimizer = 'sgd',metrics = ['accuracy'])"
      ],
      "execution_count": 0,
      "outputs": []
    },
    {
      "cell_type": "markdown",
      "metadata": {
        "id": "WziB_irZ8rJ6",
        "colab_type": "text"
      },
      "source": [
        "執行訓練程式"
      ]
    },
    {
      "cell_type": "code",
      "metadata": {
        "id": "xOp4XNvR-kVB",
        "colab_type": "code",
        "outputId": "dc8962b8-a497-4e94-b391-087c8abb203c",
        "colab": {
          "base_uri": "https://localhost:8080/",
          "height": 374
        }
      },
      "source": [
        "train_history = model.fit(x= x_Train_normalize,\n",
        "                          y=y_Train_OneHot,validation_split = 0.2,\n",
        "                          epochs = 10,batch_size = 200,verbose = 2)"
      ],
      "execution_count": 17,
      "outputs": [
        {
          "output_type": "stream",
          "text": [
            "Train on 48000 samples, validate on 12000 samples\n",
            "Epoch 1/10\n",
            " - 2s - loss: 0.7904 - accuracy: 0.7798 - val_loss: 0.6688 - val_accuracy: 0.8777\n",
            "Epoch 2/10\n",
            " - 2s - loss: 0.4020 - accuracy: 0.8915 - val_loss: 0.3520 - val_accuracy: 0.9087\n",
            "Epoch 3/10\n",
            " - 2s - loss: 0.3271 - accuracy: 0.9104 - val_loss: 0.2892 - val_accuracy: 0.9219\n",
            "Epoch 4/10\n",
            " - 2s - loss: 0.2865 - accuracy: 0.9206 - val_loss: 0.2584 - val_accuracy: 0.9311\n",
            "Epoch 5/10\n",
            " - 2s - loss: 0.2580 - accuracy: 0.9287 - val_loss: 0.2367 - val_accuracy: 0.9367\n",
            "Epoch 6/10\n",
            " - 2s - loss: 0.2372 - accuracy: 0.9341 - val_loss: 0.2198 - val_accuracy: 0.9410\n",
            "Epoch 7/10\n",
            " - 2s - loss: 0.2196 - accuracy: 0.9393 - val_loss: 0.2061 - val_accuracy: 0.9441\n",
            "Epoch 8/10\n",
            " - 2s - loss: 0.2039 - accuracy: 0.9435 - val_loss: 0.1945 - val_accuracy: 0.9472\n",
            "Epoch 9/10\n",
            " - 2s - loss: 0.1922 - accuracy: 0.9470 - val_loss: 0.1854 - val_accuracy: 0.9495\n",
            "Epoch 10/10\n",
            " - 2s - loss: 0.1806 - accuracy: 0.9498 - val_loss: 0.1766 - val_accuracy: 0.9516\n"
          ],
          "name": "stdout"
        }
      ]
    },
    {
      "cell_type": "markdown",
      "metadata": {
        "id": "bzJo1iAR8zEf",
        "colab_type": "text"
      },
      "source": [
        "建立繪圖函示"
      ]
    },
    {
      "cell_type": "code",
      "metadata": {
        "id": "7LjnDiGM_W_P",
        "colab_type": "code",
        "colab": {}
      },
      "source": [
        "def show_train_history(train_history, train, validation):\n",
        "\n",
        "    plt.plot(train_history.history[train])\n",
        "\n",
        "    plt.plot(train_history.history[validation])\n",
        "\n",
        "    plt.title('Train History')\n",
        "\n",
        "    plt.ylabel(train)\n",
        "\n",
        "    plt.xlabel('Epoch')\n",
        "\n",
        "    plt.legend(['train', 'validation'], loc='center right')\n",
        "\n",
        "    plt.show()"
      ],
      "execution_count": 0,
      "outputs": []
    },
    {
      "cell_type": "markdown",
      "metadata": {
        "id": "gL7cH6xt86HH",
        "colab_type": "text"
      },
      "source": [
        "顯示訓練成果"
      ]
    },
    {
      "cell_type": "code",
      "metadata": {
        "id": "8gg9UDo3OksT",
        "colab_type": "code",
        "outputId": "d14536f8-9adf-4301-d72d-dc98a678c31d",
        "colab": {
          "base_uri": "https://localhost:8080/",
          "height": 295
        }
      },
      "source": [
        "show_train_history(train_history,'accuracy','val_accuracy')"
      ],
      "execution_count": 19,
      "outputs": [
        {
          "output_type": "display_data",
          "data": {
            "image/png": "[encoded data removed]",
            "text/plain": [
              "<Figure size 432x288 with 1 Axes>"
            ]
          },
          "metadata": {
            "tags": [],
            "needs_background": "light"
          }
        }
      ]
    },
    {
      "cell_type": "markdown",
      "metadata": {
        "id": "YBOgWSuU9K2j",
        "colab_type": "text"
      },
      "source": [
        "顯示訓練損失"
      ]
    },
    {
      "cell_type": "code",
      "metadata": {
        "id": "tVjVhbfuAb0t",
        "colab_type": "code",
        "outputId": "70d7ac57-5be4-4a13-c544-8ebd58e5bf77",
        "colab": {
          "base_uri": "https://localhost:8080/",
          "height": 295
        }
      },
      "source": [
        "show_train_history(train_history,'loss','val_loss')"
      ],
      "execution_count": 20,
      "outputs": [
        {
          "output_type": "display_data",
          "data": {
            "image/png": "[encoded data removed]",
            "text/plain": [
              "<Figure size 432x288 with 1 Axes>"
            ]
          },
          "metadata": {
            "tags": [],
            "needs_background": "light"
          }
        }
      ]
    }
  ]
}